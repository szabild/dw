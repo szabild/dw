{
  "nbformat": 4,
  "nbformat_minor": 0,
  "metadata": {
    "colab": {
      "provenance": []
    },
    "kernelspec": {
      "name": "python3",
      "display_name": "Python 3"
    },
    "language_info": {
      "name": "python"
    }
  },
  "cells": [
    {
      "cell_type": "markdown",
      "source": [
        "# Understanding APIs and their role in Data Science\n",
        "\n",
        "Data scientists rarely work with ready-made datasets. Instead, they often need to collect and combine data from multiple sources, with web APIs being one of the most common methods for accessing real-time data. **APIs (Application Programming Interfaces)** are essential in data science because they provide a standardized way to access, retrieve, and integrate data from different sources. Picture an API as a restaurant's menu and ordering system combined. When you want specific data, you make a request following the API's prescribed format - similar to ordering a dish from a menu. The API processes your request and returns the data in a structured format, just as a kitchen prepares and serves your meal according to the menu's description.\n",
        "\n",
        "> Note: Some APIs require **authentication** to control access and ensure fair usage. This is commonly implemented using *API keys*, which are unique identifiers that must be included in requests. The APIs we will use don't require such keys.\n",
        "\n",
        "### **Calling an API Using the Browser**\n",
        "Most public APIs that do not require authentication can be accessed directly from a web browser. This allows you to test an API quickly without writing any code.\n",
        "\n",
        "The [**RestCountries API**](https://restcountries.com) provides information about countries, including capitals, currencies, and geographic coordinates.\n",
        "\n",
        "To get details about **Hungary**, open your web browser and enter the following URL in the address bar:\n",
        "\n",
        "```\n",
        "https://restcountries.com/v3.1/name/hungary\n",
        "```\n",
        "\n",
        "The browser will return a structured JSON response similar to this:\n",
        "\n",
        "```json\n",
        "[\n",
        "  {\n",
        "    \"name\": { \"common\": \"Hungary\", \"official\": \"Hungary\" },\n",
        "    \"capital\": [\"Budapest\"],\n",
        "    \"currencies\": { \"HUF\": { \"name\": \"Hungarian forint\", \"symbol\": \"Ft\" } },\n",
        "    \"latlng\": [47.0, 20.0],\n",
        "    \"capitalInfo\": { \"latlng\": [47.5, 19.08] }\n",
        "  }\n",
        "]\n",
        "```\n",
        "\n",
        "#### **Breaking Down the Response**\n",
        "- `\"name\"`: Contains the common and official names of the country.\n",
        "- `\"capital\"`: Lists the capital city.\n",
        "- `\"currencies\"`: Provides details about the national currency.\n",
        "- `\"latlng\"`: Specifies the country's latitude and longitude.\n",
        "- `\"capitalInfo\"`: Includes more precise latitude and longitude for the capital."
      ],
      "metadata": {
        "id": "pvKgcyfwc96G"
      }
    },
    {
      "cell_type": "markdown",
      "source": [
        "# Assignment for Week 2: Data Generation using APIs\n",
        "\n",
        "## Learning Objectives and Assignment Goals\n",
        "\n",
        "For this assignment, you will build a Python program that gathers and integrates data from three different APIs: **[RestCountries API](https://restcountries.com)** for country information, **[Open-Meteo API](https://open-meteo.com)** for weather data, and **[Exchange Rates API](https://open.er-api.com)** for currency exchange rates.\n",
        "\n",
        "The program should retrieve details for **five Central European countries**, including their capitals, current temperatures, national currencies, and exchange rates against USD. The final step involves exporting this consolidated dataset into a structured **text file** in a predefined format. This exercise will strengthen your skills in automated data collection, handling API responses, implementing error handling, and formatting output data for usability.\n",
        "\n",
        "## Expected Output\n",
        "\n",
        "The goal of our data collection effort is to create a comprehensive profile of Central European countries. Here's a glimpse of what the final output will look like:\n",
        "\n",
        "```text\n",
        "Country: Hungary\n",
        "Capital: Budapest\n",
        "Current temperature at capital: 12.4 °C\n",
        "National currency: HUF\n",
        "USD/HUF: 356.82 HUF\n",
        "\n",
        "Country: Austria\n",
        "Capital: Vienna\n",
        "Current temperature at capital: 10.8 °C\n",
        "National currency: EUR\n",
        "USD/EUR: 0.92 EUR\n",
        "\n",
        "Country: Czech Republic\n",
        "Capital: Prague\n",
        "Current temperature at capital: 9.6 °C\n",
        "National currency: CZK\n",
        "USD/CZK: 23.45 CZK\n",
        "```\n",
        "\n",
        "Each country's entry includes:\n",
        "\n",
        "- The country name and its capital city (from RestCountries API)\n",
        "- The current temperature at the capital's location (from Open-Meteo API)\n",
        "- The national currency and its current exchange rate against USD (from Exchange Rates API)\n",
        "\n",
        "This format illustrates how we can weave together data from multiple sources to create meaningful insights."
      ],
      "metadata": {
        "id": "kHglXz3HdI-r"
      }
    },
    {
      "cell_type": "markdown",
      "source": [
        "## 1. Terms and Conditions\n",
        "\n",
        "Before diving into our data collection project, let's understand the legal framework surrounding the use of the data from the APIs we'll be utilizing. It is crucial to check each API's terms and conditions to ensure compliance with their usage restrictions:\n",
        "\n",
        "### **Example: RestCountries API**\n",
        "\n",
        "- **URL:** [https://restcountries.com/](https://restcountries.com/)\n",
        "- **About the License:**\n",
        "    > This project is inspired on restcountries.eu by Fayder Florez. Although the original project has now moved to a subscription base API, this project is still Open Source and Free to use.\n",
        "- **Conclusion:** The RestCountries API is freely available for both commercial and non-commercial use.\n",
        "\n",
        "### **Exercise: Examining Licenses for Open-Meteo API and Exchange Rates API**\n",
        "\n",
        "Your task is to examine the licenses of the data available from the following portals and justify based on the licenses whether the data can be used for:\n",
        "\n",
        "- Educational (non-commercial) purposes.\n",
        "- Commercial purposes.\n",
        "\n",
        "**Data Portals:**\n",
        "\n",
        "- [https://open-meteo.com/](https://open-meteo.com/)\n",
        "- [https://open.er-api.com/](https://open.er-api.com/)\n",
        "\n",
        "**Note:** Always double-check the specific terms and conditions of each API before using their data, as licenses can change over time.\n",
        "\n",
        "## 2. Understanding API Documentation\n",
        "\n",
        "API documentation serves as a user manual for developers, explaining how to interact with the API efficiently and correctly.\n",
        "\n",
        "### **Why API Documentation Matters**\n",
        "\n",
        "API documentation provides:\n",
        "\n",
        "- **Endpoint details**: The specific URLs to which requests should be sent.\n",
        "- **Request parameters**: Input data required for specific queries.\n",
        "- **Authentication requirements**: Whether an API key or token is needed.\n",
        "- **Rate limits**: The number of requests allowed per time period.\n",
        "- **Response format**: The structure in which data is returned (e.g., JSON, XML).\n",
        "- **Error handling**: How errors are reported and what responses to expect.\n",
        "\n",
        "### **Example: RestCountries API**\n",
        "\n",
        "To understand how API documentation is structured, let's examine the **RestCountries API**, which provides country-related data such as capital cities, currencies, and geographic coordinates.\n",
        "\n",
        "#### **Step 1: Identify the Base URL**\n",
        "\n",
        "A base URL is the main web address of an API, serving as the foundation for all requests. API endpoints are added to this base URL to access specific data.\n",
        "\n",
        "To find the base URL, look at the API documentation under sections like \"Base URL\" or \"Endpoints Overview.\"\n",
        "\n",
        "The base URL for the **RestCountries API** is:\n",
        "\n",
        "```text\n",
        "https://restcountries.com/v3.1/\n",
        "```\n",
        "\n",
        "#### **Step 2: Identify Relevant Parameters**\n",
        "\n",
        "To request data about a specific country, we use the `/name/{country}` endpoint. This endpoint is found by consulting the API documentation, typically under sections like \"Available Endpoints\" or \"Data Retrieval.\" The documentation will outline the structure of requests, including required parameters and possible response formats. For example, to fetch details about Hungary, we use:\n",
        "\n",
        "```text\n",
        "https://restcountries.com/v3.1/name/hungary\n",
        "```\n",
        "\n",
        "#### **Step 3: Inspect the Response Format**\n",
        "\n",
        "Before analyzing the JSON response, take a moment to think about its structure. JSON (JavaScript Object Notation) organizes data in a readable format using:\n",
        "\n",
        "- **`[]`**\\*\\* (square brackets)\\*\\*: Represent arrays (lists of items).\n",
        "- **`{}`**\\*\\* (curly brackets)\\*\\*: Represent objects (key-value pairs).\n",
        "- **`\"\": {}`**\\*\\* (nested objects)\\*\\*: Represent key-value pairs where the value itself is another object containing additional key-value pairs.\n",
        "- **`\"\": []`**\\*\\* (arrays within objects)\\*\\*: Represent key-value pairs where the value is an array (a list of multiple values).\n",
        "\n",
        "To learn more about the JSON format, visit [JSON Introduction](https://www.geeksforgeeks.org/json-introduction/).\n",
        "\n",
        "When we open this URL in a browser, we receive a structured JSON response similar to this:\n",
        "\n",
        "\n",
        "\n",
        "```json\n",
        "[\n",
        "  {\n",
        "    \"name\": { \"common\": \"Hungary\", \"official\": \"Hungary\" },\n",
        "    \"capital\": [\"Budapest\"],\n",
        "    \"currencies\": { \"HUF\": { \"name\": \"Hungarian forint\", \"symbol\": \"Ft\" } },\n",
        "    \"latlng\": [47.0, 20.0],\n",
        "    \"capitalInfo\": { \"latlng\": [47.5, 19.08] }\n",
        "  }\n",
        "]\n",
        "```"
      ],
      "metadata": {
        "id": "YnMb0vtLdLys"
      }
    },
    {
      "cell_type": "markdown",
      "source": [
        "### **Exercise: Understanding API Documentation**\n",
        "\n",
        "#### **Step 1: Identify Base URLs**\n",
        "\n",
        "For this assignment, find and list the base URLs for **[Open-Meteo API](https://open-meteo.com/)**, **[Exchange Rates API](https://open.er-api.com/)**\n",
        "\n",
        "> Open-Meteo API hint: Use the endpoint */v1/forecast* of [DWD Germany](https://www.dwd.de/EN/Home/home_node.html).\n",
        "\n",
        "#### **Step 2: Determine Relevant Parameters**\n",
        "\n",
        "Analyze the API documentation and identify the parameters required to request useful data. Consider:\n",
        "\n",
        "- What inputs are mandatory?\n",
        "- Are there optional parameters that refine the query?\n",
        "- How can we specify a country, city, or currency?\n",
        "\n",
        "#### **Step 3: Inspect API Responses**\n",
        "\n",
        "Using a web browser, test API endpoints to see how responses are structured.\n",
        "\n",
        "- **Open-Meteo API**: Find the weather data for Budapest by crafting a proper request.\n",
        "- **Exchange Rates API**: Fetch the USD to HUF exchange rate and analyze the response format.\n",
        "\n",
        "#### **Step 4: Identify Dependencies Between APIs and Design the Workflow**\n",
        "\n",
        "APIs often work together in data pipelines where the output of one API serves as input for another. For this exercise, analyze how the three APIs interact:\n",
        "\n",
        "- **RestCountries API** provides the capital city and currency of a country.\n",
        "- **Open-Meteo API** requires latitude and longitude to fetch weather data for the capital.\n",
        "- **Exchange Rates API** requires the currency code to retrieve exchange rates.\n",
        "\n",
        "**Task:**\n",
        "1. Identify how data flows from one API to another.\n",
        "2. Sketch a workflow that integrates the three APIs using draw.io.\n",
        "3. Consider potential errors or missing data and plan for handling them.\n",
        "\n",
        "## 3. Interacting with APIs using Python\n",
        "\n",
        "Now that we understand the role of APIs in data generation, we will explore how to interact with them using Python. The fundamental steps include:\n",
        "\n",
        "1. Making an HTTP request to an API endpoint.\n",
        "2. Handling API responses in JSON\n",
        "3. Extracting and structuring useful information.\n",
        "4. Combining data from multiple sources.\n",
        "5. Exporting the data into a structured text file."
      ],
      "metadata": {
        "id": "CpcE_3NgdVeK"
      }
    },
    {
      "cell_type": "markdown",
      "source": [
        "### **Example: Fetching Country Data from RestCountries API**\n",
        "\n",
        "Python’s built-in `requests` module allows us to interact with APIs effortlessly. Below is a step-by-step implementation of how to request country data from the **RestCountries API**."
      ],
      "metadata": {
        "id": "ZJ5d6b01dYxW"
      }
    },
    {
      "cell_type": "markdown",
      "source": [
        "You can read more on .get() on this [link](https://www.geeksforgeeks.org/python-dictionary-get-method/)."
      ],
      "metadata": {
        "id": "DVd9nY8Wdj3X"
      }
    },
    {
      "cell_type": "code",
      "execution_count": 1,
      "metadata": {
        "colab": {
          "base_uri": "https://localhost:8080/"
        },
        "id": "lO646iDqd8rL",
        "outputId": "53b6b140-c32b-4499-a2d0-6781d1fe7eea"
      },
      "outputs": [
        {
          "output_type": "stream",
          "name": "stdout",
          "text": [
            "{'name': 'Hungary', 'capital': 'Budapest', 'currency': 'HUF', 'latlng': [47.5, 19.08]}\n",
            "{'name': 'Austria', 'capital': 'Vienna', 'currency': 'EUR', 'latlng': [48.2, 16.37]}\n",
            "{'name': 'Czechia', 'capital': 'Prague', 'currency': 'CZK', 'latlng': [50.08, 14.47]}\n"
          ]
        }
      ],
      "source": [
        "import requests\n",
        "\n",
        "# Define the base URL of the API\n",
        "BASE_URL = \"https://restcountries.com/v3.1/name/\"\n",
        "\n",
        "# List of countries to fetch data for\n",
        "countries = [\"Hungary\", \"Austria\", \"Czech Republic\"]\n",
        "\n",
        "def get_country_data(country):\n",
        "    \"\"\"Fetches country details from RestCountries API.\"\"\"\n",
        "    response = requests.get(BASE_URL + country)\n",
        "\n",
        "    if response.status_code == 200:\n",
        "        data = response.json()[0]  # Extract first item from response list\n",
        "        return {\n",
        "            \"name\": data.get(\"name\", {}).get(\"common\", \"N/A\"),\n",
        "            \"capital\": data.get(\"capital\", [\"N/A\"])[0],\n",
        "            \"currency\": list(data.get(\"currencies\", {}).keys())[0] if \"currencies\" in data else \"N/A\",\n",
        "            \"latlng\": data.get(\"capitalInfo\", {}).get(\"latlng\", [None, None])\n",
        "        }\n",
        "    else:\n",
        "        print(f\"Failed to fetch data for {country}. Status code: {response.status_code}\")\n",
        "        return None\n",
        "\n",
        "# Fetch data for all selected countries\n",
        "country_data_list = [get_country_data(country) for country in countries]\n",
        "\n",
        "# Display collected data\n",
        "for country_data in country_data_list:\n",
        "    print(country_data)"
      ]
    },
    {
      "cell_type": "markdown",
      "source": [
        "#### **Key Takeaways:**\n",
        "\n",
        "- The API returns a JSON response that contains nested dictionaries and lists.\n",
        "- The `.get()` method is used to avoid errors when accessing missing keys.\n",
        "- We handle multiple countries using a loop.\n",
        "\n",
        "**Note: Common HTTP Status Codes:**\n",
        "\n",
        "- `200 OK`: The request was successful.\n",
        "- `400 Bad Request`: The request was incorrect or corrupted.\n",
        "- `401 Unauthorized`: Authentication is required and has failed or not been provided.\n",
        "- `403 Forbidden`: The server understood the request but refuses to authorize it.\n",
        "- `404 Not Found`: The requested resource does not exist.\n",
        "- `500 Internal Server Error`: A generic error indicating something went wrong on the server.\n",
        "\n",
        "You can read more on HTTP status codes [here](https://developer.mozilla.org/en-US/docs/Web/HTTP/Status)."
      ],
      "metadata": {
        "id": "UhH-els3duHG"
      }
    },
    {
      "cell_type": "markdown",
      "source": [
        "### **Exercise 1: Fetching Weather and Exchange Rate Data**\n",
        "\n",
        "Now that we have country data, the next steps involve fetching:\n",
        "\n",
        "1. **Current temperature** from the **Open-Meteo API** using latitude and longitude.\n",
        "2. **Exchange rate** from the **Exchange Rates API** using the country’s currency.\n",
        "\n",
        "Using the documentation for these APIs write Python functions to fetch weather and exchange rate data and combine these data sources into a single data structure."
      ],
      "metadata": {
        "id": "RfNgVgvddxcX"
      }
    },
    {
      "cell_type": "code",
      "source": [
        "def get_weather_data(lat, lon):\n",
        "    \"\"\"Fetches current temperature from Open-Meteo API.\"\"\"\n",
        "    weather_url = f\"https://api.open-meteo.com/v1/forecast?latitude={lat}&longitude={lon}&current=temperature_2m\"\n",
        "    response = requests.get(weather_url)\n",
        "\n",
        "    if response.status_code == 200:\n",
        "        data = response.json()\n",
        "        return data.get(\"current\", {}).get(\"temperature_2m\", \"N/A\")\n",
        "    else:\n",
        "        print(\"Failed to fetch weather data.\")\n",
        "        return None\n",
        "\n",
        "def get_exchange_rate(currency):\n",
        "    \"\"\"Fetches exchange rate for the given currency from Exchange Rates API.\"\"\"\n",
        "    exchange_url = f\"https://open.er-api.com/v6/latest/USD\"\n",
        "    response = requests.get(exchange_url)\n",
        "\n",
        "    if response.status_code == 200:\n",
        "        data = response.json()\n",
        "        return data.get(\"rates\", {}).get(currency, \"N/A\")\n",
        "    else:\n",
        "        print(\"Failed to fetch exchange rate data.\")\n",
        "        return None\n",
        "\n",
        "# Enhancing the country data with weather and currency exchange rate\n",
        "for country_data in country_data_list:\n",
        "    if country_data:\n",
        "        lat, lon = country_data[\"latlng\"]\n",
        "        if lat is not None and lon is not None:\n",
        "            country_data[\"temperature\"] = get_weather_data(lat, lon)\n",
        "\n",
        "        currency = country_data[\"currency\"]\n",
        "        if currency != \"N/A\":\n",
        "            country_data[\"exchange_rate\"] = get_exchange_rate(currency)\n",
        "\n",
        "# Display the final dataset\n",
        "for country_data in country_data_list:\n",
        "    print(country_data)"
      ],
      "metadata": {
        "colab": {
          "base_uri": "https://localhost:8080/"
        },
        "id": "B8Sc44_BeFVY",
        "outputId": "55163112-90f7-4442-93d1-0f91e287b791"
      },
      "execution_count": 2,
      "outputs": [
        {
          "output_type": "stream",
          "name": "stdout",
          "text": [
            "{'name': 'Hungary', 'capital': 'Budapest', 'currency': 'HUF', 'latlng': [47.5, 19.08], 'temperature': 6.8, 'exchange_rate': 380.71716}\n",
            "{'name': 'Austria', 'capital': 'Vienna', 'currency': 'EUR', 'latlng': [48.2, 16.37], 'temperature': 8.8, 'exchange_rate': 0.95309}\n",
            "{'name': 'Czechia', 'capital': 'Prague', 'currency': 'CZK', 'latlng': [50.08, 14.47], 'temperature': 10.5, 'exchange_rate': 23.763175}\n"
          ]
        }
      ]
    },
    {
      "cell_type": "markdown",
      "source": [
        "Have you noticed how we handled **missing data** in the example above?"
      ],
      "metadata": {
        "id": "UZttcQyCd1dA"
      }
    },
    {
      "cell_type": "markdown",
      "source": [
        "## Exporting Data to a Structured Text File\n",
        "\n",
        "Now that we have collected and integrated data from multiple APIs, the final step is to export the structured data into a text file following the predefined output format. This ensures that the collected data is saved in a structured, human-readable format that can be easily shared or analyzed further.\n",
        "\n",
        "Using Python, we can iterate over our `country_data_list` and write the structured data to a `.txt` file."
      ],
      "metadata": {
        "id": "I1TAXB5td3w-"
      }
    },
    {
      "cell_type": "code",
      "source": [
        "# Define the filename for the output text file\n",
        "output_filename = \"country_data.txt\"\n",
        "\n",
        "# Function to write formatted data to a text file\n",
        "def export_to_text_file(data_list, filename):\n",
        "    \"\"\"Writes the structured country data to a text file in the required format.\"\"\"\n",
        "    try:\n",
        "        with open(filename, \"w\", encoding=\"utf-8\") as file:\n",
        "            for country_data in data_list:\n",
        "                if country_data:\n",
        "                    file.write(f\"Country: {country_data['name']}\\n\")\n",
        "                    file.write(f\"Capital: {country_data['capital']}\\n\")\n",
        "                    file.write(f\"Current temperature at capital: {country_data.get('temperature', 'N/A')} °C\\n\")\n",
        "                    file.write(f\"National currency: {country_data['currency']}\\n\")\n",
        "                    file.write(f\"USD/{country_data['currency']}: {country_data.get('exchange_rate', 'N/A')} {country_data['currency']}\\n\")\n",
        "                    file.write(\"\\n\")  # Add a blank line for readability\n",
        "\n",
        "        print(f\"Data successfully exported to {filename}\")\n",
        "\n",
        "    except Exception as e:\n",
        "        print(f\"Error writing to file: {e}\")\n",
        "\n",
        "# Call the function to export the data\n",
        "export_to_text_file(country_data_list, output_filename)"
      ],
      "metadata": {
        "colab": {
          "base_uri": "https://localhost:8080/"
        },
        "id": "1JwQRUNReQJh",
        "outputId": "cc09a00e-8d49-480f-dc47-942d6346e079"
      },
      "execution_count": 3,
      "outputs": [
        {
          "output_type": "stream",
          "name": "stdout",
          "text": [
            "Data successfully exported to country_data.txt\n"
          ]
        }
      ]
    },
    {
      "cell_type": "markdown",
      "source": [
        "### Explanation of the Code\n",
        "\n",
        "1. **Opening the File in Write Mode**\n",
        "\n",
        "   - We use the built-in `open()` function with `\"w\"` mode to create or overwrite the file.\n",
        "   - The `encoding=\"utf-8\"` ensures proper character handling.\n",
        "\n",
        "2. **Iterating Over the List of Country Data**\n",
        "\n",
        "   - For each country, the formatted text is written using `file.write()`.\n",
        "   - If some data is missing (e.g., temperature or exchange rate), `\"N/A\"` is used as a placeholder.\n",
        "\n",
        "3. **Handling Errors**\n",
        "\n",
        "   - The `try-except` block ensures that file operations do not cause crashes if something goes wrong.\n",
        "\n",
        "With this, we have completed the process of **collecting, integrating, and exporting data** in a structured format using multiple APIs! 🎉"
      ],
      "metadata": {
        "id": "82YgUiucd6gC"
      }
    }
  ]
}